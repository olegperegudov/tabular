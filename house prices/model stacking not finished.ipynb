{
 "metadata": {
  "language_info": {
   "codemirror_mode": {
    "name": "ipython",
    "version": 3
   },
   "file_extension": ".py",
   "mimetype": "text/x-python",
   "name": "python",
   "nbconvert_exporter": "python",
   "pygments_lexer": "ipython3",
   "version": "3.9.2-final"
  },
  "orig_nbformat": 2,
  "kernelspec": {
   "name": "python3",
   "display_name": "Python 3.9.2 64-bit",
   "metadata": {
    "interpreter": {
     "hash": "bd47a18303be29f6974e8153b6e52f9a90ee51d979b528b256bf5f0592078974"
    }
   }
  }
 },
 "nbformat": 4,
 "nbformat_minor": 2,
 "cells": [
  {
   "cell_type": "code",
   "execution_count": 26,
   "metadata": {},
   "outputs": [],
   "source": [
    "# https://medium.com/@invest_gs/kaggle-housing-competition-learn-with-a-step-by-step-solution-bdca19cc8eed"
   ]
  },
  {
   "source": [
    "# lightgbm example on house pricing"
   ],
   "cell_type": "markdown",
   "metadata": {}
  },
  {
   "cell_type": "code",
   "execution_count": 34,
   "metadata": {},
   "outputs": [],
   "source": [
    "import pandas as pd\n",
    "import datetime\n",
    "import matplotlib.pyplot as plt\n",
    "import seaborn as sns"
   ]
  },
  {
   "cell_type": "code",
   "execution_count": 10,
   "metadata": {},
   "outputs": [],
   "source": [
    "df_train = pd.read_csv(r'data\\house_prices\\train.csv')\n",
    "df_test = pd.read_csv(r'data\\house_prices\\test.csv')\n",
    "samples_sumbition = pd.read_csv(r'data\\house_prices\\sample_submission.csv')"
   ]
  },
  {
   "cell_type": "code",
   "execution_count": 15,
   "metadata": {},
   "outputs": [
    {
     "output_type": "execute_result",
     "data": {
      "text/plain": [
       "   Id  MSSubClass MSZoning  LotFrontage  LotArea Street Alley LotShape  \\\n",
       "0   1          60       RL         65.0     8450   Pave   NaN      Reg   \n",
       "\n",
       "  LandContour Utilities  ... PoolArea PoolQC Fence MiscFeature MiscVal MoSold  \\\n",
       "0         Lvl    AllPub  ...        0    NaN   NaN         NaN       0      2   \n",
       "\n",
       "  YrSold  SaleType  SaleCondition  SalePrice  \n",
       "0   2008        WD         Normal     208500  \n",
       "\n",
       "[1 rows x 81 columns]"
      ],
      "text/html": "<div>\n<style scoped>\n    .dataframe tbody tr th:only-of-type {\n        vertical-align: middle;\n    }\n\n    .dataframe tbody tr th {\n        vertical-align: top;\n    }\n\n    .dataframe thead th {\n        text-align: right;\n    }\n</style>\n<table border=\"1\" class=\"dataframe\">\n  <thead>\n    <tr style=\"text-align: right;\">\n      <th></th>\n      <th>Id</th>\n      <th>MSSubClass</th>\n      <th>MSZoning</th>\n      <th>LotFrontage</th>\n      <th>LotArea</th>\n      <th>Street</th>\n      <th>Alley</th>\n      <th>LotShape</th>\n      <th>LandContour</th>\n      <th>Utilities</th>\n      <th>...</th>\n      <th>PoolArea</th>\n      <th>PoolQC</th>\n      <th>Fence</th>\n      <th>MiscFeature</th>\n      <th>MiscVal</th>\n      <th>MoSold</th>\n      <th>YrSold</th>\n      <th>SaleType</th>\n      <th>SaleCondition</th>\n      <th>SalePrice</th>\n    </tr>\n  </thead>\n  <tbody>\n    <tr>\n      <th>0</th>\n      <td>1</td>\n      <td>60</td>\n      <td>RL</td>\n      <td>65.0</td>\n      <td>8450</td>\n      <td>Pave</td>\n      <td>NaN</td>\n      <td>Reg</td>\n      <td>Lvl</td>\n      <td>AllPub</td>\n      <td>...</td>\n      <td>0</td>\n      <td>NaN</td>\n      <td>NaN</td>\n      <td>NaN</td>\n      <td>0</td>\n      <td>2</td>\n      <td>2008</td>\n      <td>WD</td>\n      <td>Normal</td>\n      <td>208500</td>\n    </tr>\n  </tbody>\n</table>\n<p>1 rows × 81 columns</p>\n</div>"
     },
     "metadata": {},
     "execution_count": 15
    }
   ],
   "source": [
    "df_train.head(1)"
   ]
  },
  {
   "cell_type": "code",
   "execution_count": 12,
   "metadata": {},
   "outputs": [
    {
     "output_type": "stream",
     "name": "stdout",
     "text": [
      "train shape: (1460, 81)\ntest shape: (1459, 80)\n"
     ]
    }
   ],
   "source": [
    "print(f'train shape: {df_train.shape}')\n",
    "print(f'test shape: {df_test.shape}')"
   ]
  },
  {
   "cell_type": "code",
   "execution_count": 16,
   "metadata": {},
   "outputs": [],
   "source": [
    "# combined train and test for easy exploration\n",
    "\n",
    "# set SalePrice for test as -1 to separate train and test later\n",
    "df_test['SalePrice'] = -1\n",
    "\n",
    "# combine them\n",
    "df_combined = pd.concat([df_train, df_test], axis=0)"
   ]
  },
  {
   "cell_type": "code",
   "execution_count": 20,
   "metadata": {},
   "outputs": [
    {
     "output_type": "stream",
     "name": "stdout",
     "text": [
      "<class 'pandas.core.frame.DataFrame'>\nInt64Index: 2919 entries, 0 to 1458\nData columns (total 81 columns):\n #   Column         Non-Null Count  Dtype   \n---  ------         --------------  -----   \n 0   Id             2919 non-null   int64   \n 1   MSSubClass     2919 non-null   category\n 2   MSZoning       2915 non-null   object  \n 3   LotFrontage    2433 non-null   float64 \n 4   LotArea        2919 non-null   int64   \n 5   Street         2919 non-null   object  \n 6   Alley          198 non-null    object  \n 7   LotShape       2919 non-null   object  \n 8   LandContour    2919 non-null   object  \n 9   Utilities      2917 non-null   object  \n 10  LotConfig      2919 non-null   object  \n 11  LandSlope      2919 non-null   object  \n 12  Neighborhood   2919 non-null   object  \n 13  Condition1     2919 non-null   object  \n 14  Condition2     2919 non-null   object  \n 15  BldgType       2919 non-null   object  \n 16  HouseStyle     2919 non-null   object  \n 17  OverallQual    2919 non-null   int64   \n 18  OverallCond    2919 non-null   int64   \n 19  YearBuilt      2919 non-null   int64   \n 20  YearRemodAdd   2919 non-null   int64   \n 21  RoofStyle      2919 non-null   object  \n 22  RoofMatl       2919 non-null   object  \n 23  Exterior1st    2918 non-null   object  \n 24  Exterior2nd    2918 non-null   object  \n 25  MasVnrType     2895 non-null   object  \n 26  MasVnrArea     2896 non-null   float64 \n 27  ExterQual      2919 non-null   object  \n 28  ExterCond      2919 non-null   object  \n 29  Foundation     2919 non-null   object  \n 30  BsmtQual       2838 non-null   object  \n 31  BsmtCond       2837 non-null   object  \n 32  BsmtExposure   2837 non-null   object  \n 33  BsmtFinType1   2840 non-null   object  \n 34  BsmtFinSF1     2918 non-null   float64 \n 35  BsmtFinType2   2839 non-null   object  \n 36  BsmtFinSF2     2918 non-null   float64 \n 37  BsmtUnfSF      2918 non-null   float64 \n 38  TotalBsmtSF    2918 non-null   float64 \n 39  Heating        2919 non-null   object  \n 40  HeatingQC      2919 non-null   object  \n 41  CentralAir     2919 non-null   object  \n 42  Electrical     2918 non-null   object  \n 43  1stFlrSF       2919 non-null   int64   \n 44  2ndFlrSF       2919 non-null   int64   \n 45  LowQualFinSF   2919 non-null   int64   \n 46  GrLivArea      2919 non-null   int64   \n 47  BsmtFullBath   2917 non-null   float64 \n 48  BsmtHalfBath   2917 non-null   float64 \n 49  FullBath       2919 non-null   int64   \n 50  HalfBath       2919 non-null   int64   \n 51  BedroomAbvGr   2919 non-null   int64   \n 52  KitchenAbvGr   2919 non-null   int64   \n 53  KitchenQual    2918 non-null   object  \n 54  TotRmsAbvGrd   2919 non-null   int64   \n 55  Functional     2917 non-null   object  \n 56  Fireplaces     2919 non-null   int64   \n 57  FireplaceQu    1499 non-null   object  \n 58  GarageType     2762 non-null   object  \n 59  GarageYrBlt    2760 non-null   float64 \n 60  GarageFinish   2760 non-null   object  \n 61  GarageCars     2918 non-null   float64 \n 62  GarageArea     2918 non-null   float64 \n 63  GarageQual     2760 non-null   object  \n 64  GarageCond     2760 non-null   object  \n 65  PavedDrive     2919 non-null   object  \n 66  WoodDeckSF     2919 non-null   int64   \n 67  OpenPorchSF    2919 non-null   int64   \n 68  EnclosedPorch  2919 non-null   int64   \n 69  3SsnPorch      2919 non-null   int64   \n 70  ScreenPorch    2919 non-null   int64   \n 71  PoolArea       2919 non-null   int64   \n 72  PoolQC         10 non-null     object  \n 73  Fence          571 non-null    object  \n 74  MiscFeature    105 non-null    object  \n 75  MiscVal        2919 non-null   int64   \n 76  MoSold         2919 non-null   category\n 77  YrSold         2919 non-null   int64   \n 78  SaleType       2918 non-null   object  \n 79  SaleCondition  2919 non-null   object  \n 80  SalePrice      2919 non-null   int64   \ndtypes: category(2), float64(11), int64(25), object(43)\nmemory usage: 1.9+ MB\n"
     ]
    }
   ],
   "source": [
    "df_combined.info()"
   ]
  },
  {
   "cell_type": "code",
   "execution_count": 18,
   "metadata": {},
   "outputs": [],
   "source": [
    "# Classify int variables into category if needed\n",
    "df_combined[\"MSSubClass\"] = df_combined[\"MSSubClass\"].astype(\"category\")\n",
    "df_combined[\"MoSold\"] = df_combined[\"MoSold\"].astype(\"category\")"
   ]
  },
  {
   "cell_type": "code",
   "execution_count": 21,
   "metadata": {},
   "outputs": [],
   "source": [
    "# Categorical data impute with mode of neighborhood and MSSubClass or just mode of own column if missing\n",
    "missing_vals = [\"MSZoning\", \"Alley\", \"Utilities\", 'MasVnrType', 'BsmtQual', 'BsmtCond', 'BsmtExposure', 'BsmtFinType1', 'BsmtFinType2',\"Electrical\",'KitchenQual','Functional','GarageType',\"SaleType\", 'GarageFinish','GarageQual','GarageCond','Exterior1st', 'Exterior2nd','FireplaceQu', \"PoolQC\", \"Fence\", \"MiscFeature\"]\n",
    "\n",
    "for missing_val in missing_vals:\n",
    "    try:\n",
    "        df_combined[missing_val] = df_combined.groupby(['MSSubClass', \"Neighborhood\"])[missing_val].transform(lambda x: x.fillna(x.mode()[0]))\n",
    "    except:\n",
    "     df_combined[missing_val].fillna((df_combined[missing_val].mode()[0]), inplace=True)"
   ]
  },
  {
   "cell_type": "code",
   "execution_count": 22,
   "metadata": {},
   "outputs": [],
   "source": [
    "# Add \"Other\" category as most elements are missing\n",
    "df_combined[\"PoolQC\"] = df_combined[\"PoolQC\"].fillna(\"Other\")"
   ]
  },
  {
   "cell_type": "code",
   "execution_count": 23,
   "metadata": {},
   "outputs": [],
   "source": [
    "# Continuous data\n",
    "missing_vals = [\"LotFrontage\", 'MasVnrArea', 'BsmtFinSF1', 'BsmtFinSF1','TotalBsmtSF', 'BsmtFullBath', 'BsmtHalfBath', 'GarageCars', 'GarageArea',]\n",
    "impute_vals = [\"LotConfig\" ,\"Neighborhood\",'BsmtFinType1', 'BsmtFinType2','BsmtQual', 'BsmtQual', 'BsmtQual','GarageType', 'GarageType']\n",
    "\n",
    "for missing_val, impute_val in zip(missing_vals, impute_vals):\n",
    "    df_combined[missing_val] = df_combined[missing_val].fillna(df_combined.groupby(impute_val)[missing_val].transform('mean'))"
   ]
  },
  {
   "cell_type": "code",
   "execution_count": 24,
   "metadata": {},
   "outputs": [],
   "source": [
    "# Continuous impute data based on other continuous data\n",
    "missing_vals = ['GarageYrBlt']\n",
    "impute_vals = ['YearBuilt']\n",
    "\n",
    "for missing_val, impute_val in zip(missing_vals, impute_vals):\n",
    "    df_combined[missing_val] = df_combined[missing_val].fillna(df_combined[impute_val])"
   ]
  },
  {
   "cell_type": "code",
   "execution_count": 25,
   "metadata": {},
   "outputs": [
    {
     "output_type": "stream",
     "name": "stdout",
     "text": [
      "[]\n"
     ]
    }
   ],
   "source": [
    "# Fill all leftovers with mean\n",
    "for missing_val in df_combined.columns.values.tolist():\n",
    "\n",
    "    if missing_val == \"SalePrice\":\n",
    "        pass\n",
    "\n",
    "    else:\n",
    "        try:\n",
    "            df_combined[missing_val] = df_combined[missing_val].fillna(df_combined[missing_val].mean())\n",
    "        except:\n",
    "            pass\n",
    "\n",
    "# List of cols with missing values\n",
    "print([col for col in df_combined.columns if df_combined[col].isnull().any()])"
   ]
  },
  {
   "cell_type": "code",
   "execution_count": 32,
   "metadata": {},
   "outputs": [],
   "source": [
    "# Add and change some variables, namely the \"Year\" ones as it would be better to have them as \"Age\"\n",
    "year = datetime.date.today().year\n",
    "df_combined[\"AgeSold\"] = int(year) - df_combined[\"YrSold\"].astype(int)\n",
    "df_combined[\"AgeGarage\"] = int(year) - df_combined[\"GarageYrBlt\"].astype(int)\n",
    "df_combined[\"AgeBuilt\"] = int(year) - df_combined[\"YearBuilt\"].astype(int)"
   ]
  },
  {
   "cell_type": "code",
   "execution_count": 33,
   "metadata": {},
   "outputs": [],
   "source": [
    "# Add some features related to total area of the house\n",
    "df_combined['TotalArea'] = df_combined['TotalBsmtSF'] + df_combined['1stFlrSF'] + df_combined['2ndFlrSF'] + df_combined['GrLivArea'] +df_combined['GarageArea']\n",
    "df_combined['Bathrooms'] = df_combined['FullBath'] + df_combined['HalfBath']/2\n",
    "df_combined['Year average'] = (df_combined['YearRemodAdd']+df_combined['YearBuilt'])/2"
   ]
  },
  {
   "cell_type": "code",
   "execution_count": null,
   "metadata": {},
   "outputs": [],
   "source": [
    "# Check the sale price distribution by different types of variables\n",
    "for element in [\"MSSubClass\", \"MSZoning\", \"HouseStyle\",\"CentralAir\", \"PoolQC\", \"SaleType\"]:\n",
    "    cat_plot = sns.catplot(y=\"SalePrice\", x=element, kind=\"swarm\", legend=\"full\", data=df_combined, height=4.5, aspect=3/3,);\n",
    "    cat_plot.set_xticklabels(rotation=90)"
   ]
  },
  {
   "cell_type": "code",
   "execution_count": null,
   "metadata": {},
   "outputs": [],
   "source": []
  }
 ]
}